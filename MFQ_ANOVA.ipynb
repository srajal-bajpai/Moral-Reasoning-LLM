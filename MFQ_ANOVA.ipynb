{
 "cells": [
  {
   "cell_type": "code",
   "execution_count": 2,
   "id": "e31f1f5e",
   "metadata": {},
   "outputs": [],
   "source": [
    "import pandas as pd\n",
    "import matplotlib.pyplot as plt\n",
    "import seaborn as sns\n",
    "import statsmodels.api as sm\n",
    "from statsmodels.formula.api import ols"
   ]
  },
  {
   "cell_type": "code",
   "execution_count": 3,
   "id": "0c66306b",
   "metadata": {},
   "outputs": [],
   "source": [
    "dfba=pd.read_excel(r\"E:\\LLM_R\\rerawdata\\Bard_MFQ_Score.xls\")\n",
    "dfbi=pd.read_excel(r\"E:\\LLM_R\\rerawdata\\Bing_MFQ_Score.xls\")\n",
    "dfcg=pd.read_excel(r\"E:\\LLM_R\\rerawdata\\ChatGPT_MFQ_Score.xls\")\n",
    "dfhum=pd.read_csv(r\"E:\\LLM_R\\Moral (2).csv\")\n"
   ]
  },
  {
   "cell_type": "code",
   "execution_count": 4,
   "id": "14185ec7",
   "metadata": {},
   "outputs": [
    {
     "name": "stderr",
     "output_type": "stream",
     "text": [
      "C:\\Users\\sraja\\AppData\\Local\\Temp\\ipykernel_21968\\4156495551.py:5: SettingWithCopyWarning: \n",
      "A value is trying to be set on a copy of a slice from a DataFrame\n",
      "\n",
      "See the caveats in the documentation: https://pandas.pydata.org/pandas-docs/stable/user_guide/indexing.html#returning-a-view-versus-a-copy\n",
      "  df1.rename(columns={'Bard':'Participant'},inplace= True)\n",
      "C:\\Users\\sraja\\AppData\\Local\\Temp\\ipykernel_21968\\4156495551.py:6: SettingWithCopyWarning: \n",
      "A value is trying to be set on a copy of a slice from a DataFrame\n",
      "\n",
      "See the caveats in the documentation: https://pandas.pydata.org/pandas-docs/stable/user_guide/indexing.html#returning-a-view-versus-a-copy\n",
      "  df2.rename(columns={'Bing':'Participant'},inplace= True)\n",
      "C:\\Users\\sraja\\AppData\\Local\\Temp\\ipykernel_21968\\4156495551.py:7: SettingWithCopyWarning: \n",
      "A value is trying to be set on a copy of a slice from a DataFrame\n",
      "\n",
      "See the caveats in the documentation: https://pandas.pydata.org/pandas-docs/stable/user_guide/indexing.html#returning-a-view-versus-a-copy\n",
      "  df3.rename(columns={'Chatgpt':'Participant'},inplace= True)\n",
      "C:\\Users\\sraja\\AppData\\Local\\Temp\\ipykernel_21968\\4156495551.py:8: SettingWithCopyWarning: \n",
      "A value is trying to be set on a copy of a slice from a DataFrame\n",
      "\n",
      "See the caveats in the documentation: https://pandas.pydata.org/pandas-docs/stable/user_guide/indexing.html#returning-a-view-versus-a-copy\n",
      "  df4.rename(columns={'Human':'Participant'},inplace= True)\n"
     ]
    }
   ],
   "source": [
    "df1=dfba[[\"Bard\",\"MFQ_HARM_AVG\",\"MFQ_FAIRNESS_AVG\",\"MFQ_INGROUP_AVG\",\"MFQ_AUTHORITY_AVG\",\"MFQ_PURITY_AVG\",\"MFQ_PROGRESSIVISM\"]]\n",
    "df2=dfbi[[\"Bing\",\"MFQ_HARM_AVG\",\"MFQ_FAIRNESS_AVG\",\"MFQ_INGROUP_AVG\",\"MFQ_AUTHORITY_AVG\",\"MFQ_PURITY_AVG\",\"MFQ_PROGRESSIVISM\"]]\n",
    "df3=dfcg[[\"Chatgpt\",\"MFQ_HARM_AVG\",\"MFQ_FAIRNESS_AVG\",\"MFQ_INGROUP_AVG\",\"MFQ_AUTHORITY_AVG\",\"MFQ_PURITY_AVG\",\"MFQ_PROGRESSIVISM\"]]\n",
    "df4=dfhum[[\"Human\",\"MFQ_HARM_AVG\",\"MFQ_FAIRNESS_AVG\",\"MFQ_INGROUP_AVG\",\"MFQ_AUTHORITY_AVG\",\"MFQ_PURITY_AVG\",\"MFQ_PROGRESSIVISM\"]]\n",
    "df1.rename(columns={'Bard':'Participant'},inplace= True)\n",
    "df2.rename(columns={'Bing':'Participant'},inplace= True)\n",
    "df3.rename(columns={'Chatgpt':'Participant'},inplace= True)\n",
    "df4.rename(columns={'Human':'Participant'},inplace= True)"
   ]
  },
  {
   "cell_type": "code",
   "execution_count": 5,
   "id": "57362fa9",
   "metadata": {},
   "outputs": [
    {
     "data": {
      "text/html": [
       "<div>\n",
       "<style scoped>\n",
       "    .dataframe tbody tr th:only-of-type {\n",
       "        vertical-align: middle;\n",
       "    }\n",
       "\n",
       "    .dataframe tbody tr th {\n",
       "        vertical-align: top;\n",
       "    }\n",
       "\n",
       "    .dataframe thead th {\n",
       "        text-align: right;\n",
       "    }\n",
       "</style>\n",
       "<table border=\"1\" class=\"dataframe\">\n",
       "  <thead>\n",
       "    <tr style=\"text-align: right;\">\n",
       "      <th></th>\n",
       "      <th>MFQ_HARM_AVG</th>\n",
       "      <th>MFQ_FAIRNESS_AVG</th>\n",
       "      <th>MFQ_INGROUP_AVG</th>\n",
       "      <th>MFQ_AUTHORITY_AVG</th>\n",
       "      <th>MFQ_PURITY_AVG</th>\n",
       "      <th>MFQ_PROGRESSIVISM</th>\n",
       "    </tr>\n",
       "  </thead>\n",
       "  <tbody>\n",
       "    <tr>\n",
       "      <th>count</th>\n",
       "      <td>53.000000</td>\n",
       "      <td>53.000000</td>\n",
       "      <td>53.000000</td>\n",
       "      <td>53.000000</td>\n",
       "      <td>53.000000</td>\n",
       "      <td>53.000000</td>\n",
       "    </tr>\n",
       "    <tr>\n",
       "      <th>mean</th>\n",
       "      <td>3.816038</td>\n",
       "      <td>4.216981</td>\n",
       "      <td>2.320755</td>\n",
       "      <td>1.570755</td>\n",
       "      <td>1.132075</td>\n",
       "      <td>2.341981</td>\n",
       "    </tr>\n",
       "    <tr>\n",
       "      <th>std</th>\n",
       "      <td>0.290684</td>\n",
       "      <td>0.421871</td>\n",
       "      <td>0.283256</td>\n",
       "      <td>0.337473</td>\n",
       "      <td>0.464105</td>\n",
       "      <td>0.306116</td>\n",
       "    </tr>\n",
       "    <tr>\n",
       "      <th>min</th>\n",
       "      <td>3.000000</td>\n",
       "      <td>3.000000</td>\n",
       "      <td>1.500000</td>\n",
       "      <td>1.000000</td>\n",
       "      <td>0.000000</td>\n",
       "      <td>1.666667</td>\n",
       "    </tr>\n",
       "    <tr>\n",
       "      <th>25%</th>\n",
       "      <td>3.750000</td>\n",
       "      <td>4.000000</td>\n",
       "      <td>2.250000</td>\n",
       "      <td>1.500000</td>\n",
       "      <td>1.000000</td>\n",
       "      <td>2.125000</td>\n",
       "    </tr>\n",
       "    <tr>\n",
       "      <th>50%</th>\n",
       "      <td>3.750000</td>\n",
       "      <td>4.250000</td>\n",
       "      <td>2.500000</td>\n",
       "      <td>1.500000</td>\n",
       "      <td>1.000000</td>\n",
       "      <td>2.333333</td>\n",
       "    </tr>\n",
       "    <tr>\n",
       "      <th>75%</th>\n",
       "      <td>4.000000</td>\n",
       "      <td>4.500000</td>\n",
       "      <td>2.500000</td>\n",
       "      <td>1.750000</td>\n",
       "      <td>1.500000</td>\n",
       "      <td>2.500000</td>\n",
       "    </tr>\n",
       "    <tr>\n",
       "      <th>max</th>\n",
       "      <td>4.500000</td>\n",
       "      <td>5.000000</td>\n",
       "      <td>2.750000</td>\n",
       "      <td>2.750000</td>\n",
       "      <td>2.500000</td>\n",
       "      <td>3.083333</td>\n",
       "    </tr>\n",
       "  </tbody>\n",
       "</table>\n",
       "</div>"
      ],
      "text/plain": [
       "       MFQ_HARM_AVG  MFQ_FAIRNESS_AVG  MFQ_INGROUP_AVG  MFQ_AUTHORITY_AVG  \\\n",
       "count     53.000000         53.000000        53.000000          53.000000   \n",
       "mean       3.816038          4.216981         2.320755           1.570755   \n",
       "std        0.290684          0.421871         0.283256           0.337473   \n",
       "min        3.000000          3.000000         1.500000           1.000000   \n",
       "25%        3.750000          4.000000         2.250000           1.500000   \n",
       "50%        3.750000          4.250000         2.500000           1.500000   \n",
       "75%        4.000000          4.500000         2.500000           1.750000   \n",
       "max        4.500000          5.000000         2.750000           2.750000   \n",
       "\n",
       "       MFQ_PURITY_AVG  MFQ_PROGRESSIVISM  \n",
       "count       53.000000          53.000000  \n",
       "mean         1.132075           2.341981  \n",
       "std          0.464105           0.306116  \n",
       "min          0.000000           1.666667  \n",
       "25%          1.000000           2.125000  \n",
       "50%          1.000000           2.333333  \n",
       "75%          1.500000           2.500000  \n",
       "max          2.500000           3.083333  "
      ]
     },
     "execution_count": 5,
     "metadata": {},
     "output_type": "execute_result"
    }
   ],
   "source": [
    "df1.describe()"
   ]
  },
  {
   "cell_type": "code",
   "execution_count": 6,
   "id": "74ad5199",
   "metadata": {},
   "outputs": [
    {
     "data": {
      "text/html": [
       "<div>\n",
       "<style scoped>\n",
       "    .dataframe tbody tr th:only-of-type {\n",
       "        vertical-align: middle;\n",
       "    }\n",
       "\n",
       "    .dataframe tbody tr th {\n",
       "        vertical-align: top;\n",
       "    }\n",
       "\n",
       "    .dataframe thead th {\n",
       "        text-align: right;\n",
       "    }\n",
       "</style>\n",
       "<table border=\"1\" class=\"dataframe\">\n",
       "  <thead>\n",
       "    <tr style=\"text-align: right;\">\n",
       "      <th></th>\n",
       "      <th>MFQ_HARM_AVG</th>\n",
       "      <th>MFQ_FAIRNESS_AVG</th>\n",
       "      <th>MFQ_INGROUP_AVG</th>\n",
       "      <th>MFQ_AUTHORITY_AVG</th>\n",
       "      <th>MFQ_PURITY_AVG</th>\n",
       "      <th>MFQ_PROGRESSIVISM</th>\n",
       "    </tr>\n",
       "  </thead>\n",
       "  <tbody>\n",
       "    <tr>\n",
       "      <th>count</th>\n",
       "      <td>53.000000</td>\n",
       "      <td>53.000000</td>\n",
       "      <td>53.000000</td>\n",
       "      <td>53.000000</td>\n",
       "      <td>53.000000</td>\n",
       "      <td>53.000000</td>\n",
       "    </tr>\n",
       "    <tr>\n",
       "      <th>mean</th>\n",
       "      <td>4.160377</td>\n",
       "      <td>4.235849</td>\n",
       "      <td>2.490566</td>\n",
       "      <td>2.089623</td>\n",
       "      <td>1.202830</td>\n",
       "      <td>2.270440</td>\n",
       "    </tr>\n",
       "    <tr>\n",
       "      <th>std</th>\n",
       "      <td>1.049375</td>\n",
       "      <td>0.601311</td>\n",
       "      <td>0.761076</td>\n",
       "      <td>0.703860</td>\n",
       "      <td>1.055044</td>\n",
       "      <td>0.783085</td>\n",
       "    </tr>\n",
       "    <tr>\n",
       "      <th>min</th>\n",
       "      <td>0.000000</td>\n",
       "      <td>3.000000</td>\n",
       "      <td>0.000000</td>\n",
       "      <td>0.000000</td>\n",
       "      <td>0.000000</td>\n",
       "      <td>-0.166667</td>\n",
       "    </tr>\n",
       "    <tr>\n",
       "      <th>25%</th>\n",
       "      <td>4.000000</td>\n",
       "      <td>4.000000</td>\n",
       "      <td>2.250000</td>\n",
       "      <td>2.000000</td>\n",
       "      <td>1.000000</td>\n",
       "      <td>2.250000</td>\n",
       "    </tr>\n",
       "    <tr>\n",
       "      <th>50%</th>\n",
       "      <td>4.250000</td>\n",
       "      <td>4.000000</td>\n",
       "      <td>2.750000</td>\n",
       "      <td>2.000000</td>\n",
       "      <td>1.000000</td>\n",
       "      <td>2.500000</td>\n",
       "    </tr>\n",
       "    <tr>\n",
       "      <th>75%</th>\n",
       "      <td>5.000000</td>\n",
       "      <td>4.750000</td>\n",
       "      <td>3.000000</td>\n",
       "      <td>2.250000</td>\n",
       "      <td>1.000000</td>\n",
       "      <td>2.583333</td>\n",
       "    </tr>\n",
       "    <tr>\n",
       "      <th>max</th>\n",
       "      <td>5.000000</td>\n",
       "      <td>5.000000</td>\n",
       "      <td>4.000000</td>\n",
       "      <td>3.750000</td>\n",
       "      <td>5.000000</td>\n",
       "      <td>3.583333</td>\n",
       "    </tr>\n",
       "  </tbody>\n",
       "</table>\n",
       "</div>"
      ],
      "text/plain": [
       "       MFQ_HARM_AVG  MFQ_FAIRNESS_AVG  MFQ_INGROUP_AVG  MFQ_AUTHORITY_AVG  \\\n",
       "count     53.000000         53.000000        53.000000          53.000000   \n",
       "mean       4.160377          4.235849         2.490566           2.089623   \n",
       "std        1.049375          0.601311         0.761076           0.703860   \n",
       "min        0.000000          3.000000         0.000000           0.000000   \n",
       "25%        4.000000          4.000000         2.250000           2.000000   \n",
       "50%        4.250000          4.000000         2.750000           2.000000   \n",
       "75%        5.000000          4.750000         3.000000           2.250000   \n",
       "max        5.000000          5.000000         4.000000           3.750000   \n",
       "\n",
       "       MFQ_PURITY_AVG  MFQ_PROGRESSIVISM  \n",
       "count       53.000000          53.000000  \n",
       "mean         1.202830           2.270440  \n",
       "std          1.055044           0.783085  \n",
       "min          0.000000          -0.166667  \n",
       "25%          1.000000           2.250000  \n",
       "50%          1.000000           2.500000  \n",
       "75%          1.000000           2.583333  \n",
       "max          5.000000           3.583333  "
      ]
     },
     "execution_count": 6,
     "metadata": {},
     "output_type": "execute_result"
    }
   ],
   "source": [
    "df2.describe()\n"
   ]
  },
  {
   "cell_type": "code",
   "execution_count": 7,
   "id": "5646a2f5",
   "metadata": {},
   "outputs": [
    {
     "data": {
      "text/html": [
       "<div>\n",
       "<style scoped>\n",
       "    .dataframe tbody tr th:only-of-type {\n",
       "        vertical-align: middle;\n",
       "    }\n",
       "\n",
       "    .dataframe tbody tr th {\n",
       "        vertical-align: top;\n",
       "    }\n",
       "\n",
       "    .dataframe thead th {\n",
       "        text-align: right;\n",
       "    }\n",
       "</style>\n",
       "<table border=\"1\" class=\"dataframe\">\n",
       "  <thead>\n",
       "    <tr style=\"text-align: right;\">\n",
       "      <th></th>\n",
       "      <th>MFQ_HARM_AVG</th>\n",
       "      <th>MFQ_FAIRNESS_AVG</th>\n",
       "      <th>MFQ_INGROUP_AVG</th>\n",
       "      <th>MFQ_AUTHORITY_AVG</th>\n",
       "      <th>MFQ_PURITY_AVG</th>\n",
       "      <th>MFQ_PROGRESSIVISM</th>\n",
       "    </tr>\n",
       "  </thead>\n",
       "  <tbody>\n",
       "    <tr>\n",
       "      <th>count</th>\n",
       "      <td>53.000000</td>\n",
       "      <td>53.000000</td>\n",
       "      <td>53.000000</td>\n",
       "      <td>53.000000</td>\n",
       "      <td>53.000000</td>\n",
       "      <td>53.000000</td>\n",
       "    </tr>\n",
       "    <tr>\n",
       "      <th>mean</th>\n",
       "      <td>4.622642</td>\n",
       "      <td>4.051887</td>\n",
       "      <td>3.000000</td>\n",
       "      <td>2.566038</td>\n",
       "      <td>2.127358</td>\n",
       "      <td>1.772799</td>\n",
       "    </tr>\n",
       "    <tr>\n",
       "      <th>std</th>\n",
       "      <td>0.217186</td>\n",
       "      <td>0.132999</td>\n",
       "      <td>0.069338</td>\n",
       "      <td>0.203047</td>\n",
       "      <td>0.296707</td>\n",
       "      <td>0.168968</td>\n",
       "    </tr>\n",
       "    <tr>\n",
       "      <th>min</th>\n",
       "      <td>4.000000</td>\n",
       "      <td>4.000000</td>\n",
       "      <td>2.750000</td>\n",
       "      <td>2.000000</td>\n",
       "      <td>1.500000</td>\n",
       "      <td>1.166667</td>\n",
       "    </tr>\n",
       "    <tr>\n",
       "      <th>25%</th>\n",
       "      <td>4.500000</td>\n",
       "      <td>4.000000</td>\n",
       "      <td>3.000000</td>\n",
       "      <td>2.500000</td>\n",
       "      <td>2.000000</td>\n",
       "      <td>1.666667</td>\n",
       "    </tr>\n",
       "    <tr>\n",
       "      <th>50%</th>\n",
       "      <td>4.750000</td>\n",
       "      <td>4.000000</td>\n",
       "      <td>3.000000</td>\n",
       "      <td>2.500000</td>\n",
       "      <td>2.000000</td>\n",
       "      <td>1.791667</td>\n",
       "    </tr>\n",
       "    <tr>\n",
       "      <th>75%</th>\n",
       "      <td>4.750000</td>\n",
       "      <td>4.000000</td>\n",
       "      <td>3.000000</td>\n",
       "      <td>2.750000</td>\n",
       "      <td>2.250000</td>\n",
       "      <td>1.875000</td>\n",
       "    </tr>\n",
       "    <tr>\n",
       "      <th>max</th>\n",
       "      <td>5.000000</td>\n",
       "      <td>4.500000</td>\n",
       "      <td>3.250000</td>\n",
       "      <td>3.000000</td>\n",
       "      <td>2.750000</td>\n",
       "      <td>2.083333</td>\n",
       "    </tr>\n",
       "  </tbody>\n",
       "</table>\n",
       "</div>"
      ],
      "text/plain": [
       "       MFQ_HARM_AVG  MFQ_FAIRNESS_AVG  MFQ_INGROUP_AVG  MFQ_AUTHORITY_AVG  \\\n",
       "count     53.000000         53.000000        53.000000          53.000000   \n",
       "mean       4.622642          4.051887         3.000000           2.566038   \n",
       "std        0.217186          0.132999         0.069338           0.203047   \n",
       "min        4.000000          4.000000         2.750000           2.000000   \n",
       "25%        4.500000          4.000000         3.000000           2.500000   \n",
       "50%        4.750000          4.000000         3.000000           2.500000   \n",
       "75%        4.750000          4.000000         3.000000           2.750000   \n",
       "max        5.000000          4.500000         3.250000           3.000000   \n",
       "\n",
       "       MFQ_PURITY_AVG  MFQ_PROGRESSIVISM  \n",
       "count       53.000000          53.000000  \n",
       "mean         2.127358           1.772799  \n",
       "std          0.296707           0.168968  \n",
       "min          1.500000           1.166667  \n",
       "25%          2.000000           1.666667  \n",
       "50%          2.000000           1.791667  \n",
       "75%          2.250000           1.875000  \n",
       "max          2.750000           2.083333  "
      ]
     },
     "execution_count": 7,
     "metadata": {},
     "output_type": "execute_result"
    }
   ],
   "source": [
    "df3.describe()"
   ]
  },
  {
   "cell_type": "code",
   "execution_count": 8,
   "id": "9853fe84",
   "metadata": {},
   "outputs": [
    {
     "data": {
      "text/html": [
       "<div>\n",
       "<style scoped>\n",
       "    .dataframe tbody tr th:only-of-type {\n",
       "        vertical-align: middle;\n",
       "    }\n",
       "\n",
       "    .dataframe tbody tr th {\n",
       "        vertical-align: top;\n",
       "    }\n",
       "\n",
       "    .dataframe thead th {\n",
       "        text-align: right;\n",
       "    }\n",
       "</style>\n",
       "<table border=\"1\" class=\"dataframe\">\n",
       "  <thead>\n",
       "    <tr style=\"text-align: right;\">\n",
       "      <th></th>\n",
       "      <th>MFQ_HARM_AVG</th>\n",
       "      <th>MFQ_FAIRNESS_AVG</th>\n",
       "      <th>MFQ_INGROUP_AVG</th>\n",
       "      <th>MFQ_AUTHORITY_AVG</th>\n",
       "      <th>MFQ_PURITY_AVG</th>\n",
       "      <th>MFQ_PROGRESSIVISM</th>\n",
       "    </tr>\n",
       "  </thead>\n",
       "  <tbody>\n",
       "    <tr>\n",
       "      <th>count</th>\n",
       "      <td>53.000000</td>\n",
       "      <td>53.000000</td>\n",
       "      <td>53.000000</td>\n",
       "      <td>53.000000</td>\n",
       "      <td>53.000000</td>\n",
       "      <td>53.000000</td>\n",
       "    </tr>\n",
       "    <tr>\n",
       "      <th>mean</th>\n",
       "      <td>3.556604</td>\n",
       "      <td>3.943396</td>\n",
       "      <td>3.278302</td>\n",
       "      <td>2.886792</td>\n",
       "      <td>3.033019</td>\n",
       "      <td>0.683962</td>\n",
       "    </tr>\n",
       "    <tr>\n",
       "      <th>std</th>\n",
       "      <td>0.647928</td>\n",
       "      <td>0.520358</td>\n",
       "      <td>0.783944</td>\n",
       "      <td>0.721520</td>\n",
       "      <td>0.758030</td>\n",
       "      <td>0.746002</td>\n",
       "    </tr>\n",
       "    <tr>\n",
       "      <th>min</th>\n",
       "      <td>1.750000</td>\n",
       "      <td>2.750000</td>\n",
       "      <td>1.250000</td>\n",
       "      <td>0.750000</td>\n",
       "      <td>1.250000</td>\n",
       "      <td>-0.958333</td>\n",
       "    </tr>\n",
       "    <tr>\n",
       "      <th>25%</th>\n",
       "      <td>3.250000</td>\n",
       "      <td>3.750000</td>\n",
       "      <td>2.750000</td>\n",
       "      <td>2.500000</td>\n",
       "      <td>2.500000</td>\n",
       "      <td>0.125000</td>\n",
       "    </tr>\n",
       "    <tr>\n",
       "      <th>50%</th>\n",
       "      <td>3.500000</td>\n",
       "      <td>4.000000</td>\n",
       "      <td>3.250000</td>\n",
       "      <td>3.000000</td>\n",
       "      <td>3.000000</td>\n",
       "      <td>0.625000</td>\n",
       "    </tr>\n",
       "    <tr>\n",
       "      <th>75%</th>\n",
       "      <td>4.000000</td>\n",
       "      <td>4.250000</td>\n",
       "      <td>3.750000</td>\n",
       "      <td>3.250000</td>\n",
       "      <td>3.500000</td>\n",
       "      <td>1.041667</td>\n",
       "    </tr>\n",
       "    <tr>\n",
       "      <th>max</th>\n",
       "      <td>5.000000</td>\n",
       "      <td>5.000000</td>\n",
       "      <td>4.750000</td>\n",
       "      <td>4.500000</td>\n",
       "      <td>4.500000</td>\n",
       "      <td>2.958333</td>\n",
       "    </tr>\n",
       "  </tbody>\n",
       "</table>\n",
       "</div>"
      ],
      "text/plain": [
       "       MFQ_HARM_AVG  MFQ_FAIRNESS_AVG  MFQ_INGROUP_AVG  MFQ_AUTHORITY_AVG  \\\n",
       "count     53.000000         53.000000        53.000000          53.000000   \n",
       "mean       3.556604          3.943396         3.278302           2.886792   \n",
       "std        0.647928          0.520358         0.783944           0.721520   \n",
       "min        1.750000          2.750000         1.250000           0.750000   \n",
       "25%        3.250000          3.750000         2.750000           2.500000   \n",
       "50%        3.500000          4.000000         3.250000           3.000000   \n",
       "75%        4.000000          4.250000         3.750000           3.250000   \n",
       "max        5.000000          5.000000         4.750000           4.500000   \n",
       "\n",
       "       MFQ_PURITY_AVG  MFQ_PROGRESSIVISM  \n",
       "count       53.000000          53.000000  \n",
       "mean         3.033019           0.683962  \n",
       "std          0.758030           0.746002  \n",
       "min          1.250000          -0.958333  \n",
       "25%          2.500000           0.125000  \n",
       "50%          3.000000           0.625000  \n",
       "75%          3.500000           1.041667  \n",
       "max          4.500000           2.958333  "
      ]
     },
     "execution_count": 8,
     "metadata": {},
     "output_type": "execute_result"
    }
   ],
   "source": [
    "df4.describe()"
   ]
  },
  {
   "cell_type": "code",
   "execution_count": 9,
   "id": "8e1dd562",
   "metadata": {},
   "outputs": [
    {
     "name": "stderr",
     "output_type": "stream",
     "text": [
      "C:\\Users\\sraja\\AppData\\Local\\Temp\\ipykernel_21968\\1814789403.py:1: SettingWithCopyWarning: \n",
      "A value is trying to be set on a copy of a slice from a DataFrame.\n",
      "Try using .loc[row_indexer,col_indexer] = value instead\n",
      "\n",
      "See the caveats in the documentation: https://pandas.pydata.org/pandas-docs/stable/user_guide/indexing.html#returning-a-view-versus-a-copy\n",
      "  df1['Individual']=df1['MFQ_HARM_AVG']+ df1['MFQ_FAIRNESS_AVG' ]\n",
      "C:\\Users\\sraja\\AppData\\Local\\Temp\\ipykernel_21968\\1814789403.py:2: SettingWithCopyWarning: \n",
      "A value is trying to be set on a copy of a slice from a DataFrame.\n",
      "Try using .loc[row_indexer,col_indexer] = value instead\n",
      "\n",
      "See the caveats in the documentation: https://pandas.pydata.org/pandas-docs/stable/user_guide/indexing.html#returning-a-view-versus-a-copy\n",
      "  df1['Group']=df1['MFQ_INGROUP_AVG']+ df1['MFQ_AUTHORITY_AVG']+df1['MFQ_PURITY_AVG']+df1['MFQ_PROGRESSIVISM']\n",
      "C:\\Users\\sraja\\AppData\\Local\\Temp\\ipykernel_21968\\1814789403.py:3: SettingWithCopyWarning: \n",
      "A value is trying to be set on a copy of a slice from a DataFrame.\n",
      "Try using .loc[row_indexer,col_indexer] = value instead\n",
      "\n",
      "See the caveats in the documentation: https://pandas.pydata.org/pandas-docs/stable/user_guide/indexing.html#returning-a-view-versus-a-copy\n",
      "  df2['Individual']=df2['MFQ_HARM_AVG']+ df2['MFQ_FAIRNESS_AVG' ]\n",
      "C:\\Users\\sraja\\AppData\\Local\\Temp\\ipykernel_21968\\1814789403.py:4: SettingWithCopyWarning: \n",
      "A value is trying to be set on a copy of a slice from a DataFrame.\n",
      "Try using .loc[row_indexer,col_indexer] = value instead\n",
      "\n",
      "See the caveats in the documentation: https://pandas.pydata.org/pandas-docs/stable/user_guide/indexing.html#returning-a-view-versus-a-copy\n",
      "  df2['Group']=df2['MFQ_INGROUP_AVG']+ df2['MFQ_AUTHORITY_AVG']+df2['MFQ_PURITY_AVG']+df2['MFQ_PROGRESSIVISM']\n",
      "C:\\Users\\sraja\\AppData\\Local\\Temp\\ipykernel_21968\\1814789403.py:5: SettingWithCopyWarning: \n",
      "A value is trying to be set on a copy of a slice from a DataFrame.\n",
      "Try using .loc[row_indexer,col_indexer] = value instead\n",
      "\n",
      "See the caveats in the documentation: https://pandas.pydata.org/pandas-docs/stable/user_guide/indexing.html#returning-a-view-versus-a-copy\n",
      "  df3['Individual']=df3['MFQ_HARM_AVG']+ df3['MFQ_FAIRNESS_AVG' ]\n",
      "C:\\Users\\sraja\\AppData\\Local\\Temp\\ipykernel_21968\\1814789403.py:6: SettingWithCopyWarning: \n",
      "A value is trying to be set on a copy of a slice from a DataFrame.\n",
      "Try using .loc[row_indexer,col_indexer] = value instead\n",
      "\n",
      "See the caveats in the documentation: https://pandas.pydata.org/pandas-docs/stable/user_guide/indexing.html#returning-a-view-versus-a-copy\n",
      "  df3['Group']=df3['MFQ_INGROUP_AVG']+ df3['MFQ_AUTHORITY_AVG']+df3['MFQ_PURITY_AVG']+df3['MFQ_PROGRESSIVISM']\n",
      "C:\\Users\\sraja\\AppData\\Local\\Temp\\ipykernel_21968\\1814789403.py:7: SettingWithCopyWarning: \n",
      "A value is trying to be set on a copy of a slice from a DataFrame.\n",
      "Try using .loc[row_indexer,col_indexer] = value instead\n",
      "\n",
      "See the caveats in the documentation: https://pandas.pydata.org/pandas-docs/stable/user_guide/indexing.html#returning-a-view-versus-a-copy\n",
      "  df4['Individual']=df4['MFQ_HARM_AVG']+ df4['MFQ_FAIRNESS_AVG' ]\n",
      "C:\\Users\\sraja\\AppData\\Local\\Temp\\ipykernel_21968\\1814789403.py:8: SettingWithCopyWarning: \n",
      "A value is trying to be set on a copy of a slice from a DataFrame.\n",
      "Try using .loc[row_indexer,col_indexer] = value instead\n",
      "\n",
      "See the caveats in the documentation: https://pandas.pydata.org/pandas-docs/stable/user_guide/indexing.html#returning-a-view-versus-a-copy\n",
      "  df4['Group']=df4['MFQ_INGROUP_AVG']+ df4['MFQ_AUTHORITY_AVG']+df4['MFQ_PURITY_AVG']+df4['MFQ_PROGRESSIVISM']\n"
     ]
    }
   ],
   "source": [
    "df1['Individual']=df1['MFQ_HARM_AVG']+ df1['MFQ_FAIRNESS_AVG' ]\n",
    "df1['Group']=df1['MFQ_INGROUP_AVG']+ df1['MFQ_AUTHORITY_AVG']+df1['MFQ_PURITY_AVG']+df1['MFQ_PROGRESSIVISM']\n",
    "df2['Individual']=df2['MFQ_HARM_AVG']+ df2['MFQ_FAIRNESS_AVG' ]\n",
    "df2['Group']=df2['MFQ_INGROUP_AVG']+ df2['MFQ_AUTHORITY_AVG']+df2['MFQ_PURITY_AVG']+df2['MFQ_PROGRESSIVISM']\n",
    "df3['Individual']=df3['MFQ_HARM_AVG']+ df3['MFQ_FAIRNESS_AVG' ]\n",
    "df3['Group']=df3['MFQ_INGROUP_AVG']+ df3['MFQ_AUTHORITY_AVG']+df3['MFQ_PURITY_AVG']+df3['MFQ_PROGRESSIVISM']\n",
    "df4['Individual']=df4['MFQ_HARM_AVG']+ df4['MFQ_FAIRNESS_AVG' ]\n",
    "df4['Group']=df4['MFQ_INGROUP_AVG']+ df4['MFQ_AUTHORITY_AVG']+df4['MFQ_PURITY_AVG']+df4['MFQ_PROGRESSIVISM']"
   ]
  },
  {
   "cell_type": "code",
   "execution_count": 10,
   "id": "f6f3246b",
   "metadata": {},
   "outputs": [
    {
     "data": {
      "text/plain": [
       "8.033018867924529"
      ]
     },
     "execution_count": 10,
     "metadata": {},
     "output_type": "execute_result"
    }
   ],
   "source": [
    "df1[\"Individual\"].mean()"
   ]
  },
  {
   "cell_type": "code",
   "execution_count": null,
   "id": "a1f8d02e",
   "metadata": {},
   "outputs": [],
   "source": []
  },
  {
   "cell_type": "code",
   "execution_count": 11,
   "id": "8a1c7729",
   "metadata": {},
   "outputs": [
    {
     "data": {
      "text/plain": [
       "<AxesSubplot:xlabel='MFQ_FAIRNESS_AVG', ylabel='Count'>"
      ]
     },
     "execution_count": 11,
     "metadata": {},
     "output_type": "execute_result"
    },
    {
     "data": {
      "image/png": "[encoded data removed]",
      "text/plain": [
       "<Figure size 640x480 with 1 Axes>"
      ]
     },
     "metadata": {},
     "output_type": "display_data"
    }
   ],
   "source": [
    "sns.histplot(x=df1['MFQ_FAIRNESS_AVG'])"
   ]
  },
  {
   "cell_type": "code",
   "execution_count": 12,
   "id": "443d5c50",
   "metadata": {},
   "outputs": [
    {
     "data": {
      "text/plain": [
       "<AxesSubplot:xlabel='MFQ_FAIRNESS_AVG', ylabel='Count'>"
      ]
     },
     "execution_count": 12,
     "metadata": {},
     "output_type": "execute_result"
    },
    {
     "data": {
      "image/png": "[encoded data removed]",
      "text/plain": [
       "<Figure size 640x480 with 1 Axes>"
      ]
     },
     "metadata": {},
     "output_type": "display_data"
    }
   ],
   "source": [
    "sns.histplot(x=df1['MFQ_FAIRNESS_AVG'])"
   ]
  },
  {
   "cell_type": "code",
   "execution_count": null,
   "id": "793b6bc7",
   "metadata": {},
   "outputs": [],
   "source": []
  },
  {
   "cell_type": "code",
   "execution_count": 13,
   "id": "60394206",
   "metadata": {},
   "outputs": [
    {
     "name": "stderr",
     "output_type": "stream",
     "text": [
      "C:\\Users\\sraja\\AppData\\Local\\Temp\\ipykernel_21968\\135620088.py:1: FutureWarning: The frame.append method is deprecated and will be removed from pandas in a future version. Use pandas.concat instead.\n",
      "  df1=df1.append(df2,ignore_index=True)\n",
      "C:\\Users\\sraja\\AppData\\Local\\Temp\\ipykernel_21968\\135620088.py:2: FutureWarning: The frame.append method is deprecated and will be removed from pandas in a future version. Use pandas.concat instead.\n",
      "  df1=df1.append(df3,ignore_index=True)\n",
      "C:\\Users\\sraja\\AppData\\Local\\Temp\\ipykernel_21968\\135620088.py:3: FutureWarning: The frame.append method is deprecated and will be removed from pandas in a future version. Use pandas.concat instead.\n",
      "  df1=df1.append(df4,ignore_index=True)\n"
     ]
    }
   ],
   "source": [
    "df1=df1.append(df2,ignore_index=True)\n",
    "df1=df1.append(df3,ignore_index=True)\n",
    "df1=df1.append(df4,ignore_index=True)"
   ]
  },
  {
   "cell_type": "code",
   "execution_count": 14,
   "id": "429052a3",
   "metadata": {},
   "outputs": [
    {
     "data": {
      "text/html": [
       "<div>\n",
       "<style scoped>\n",
       "    .dataframe tbody tr th:only-of-type {\n",
       "        vertical-align: middle;\n",
       "    }\n",
       "\n",
       "    .dataframe tbody tr th {\n",
       "        vertical-align: top;\n",
       "    }\n",
       "\n",
       "    .dataframe thead th {\n",
       "        text-align: right;\n",
       "    }\n",
       "</style>\n",
       "<table border=\"1\" class=\"dataframe\">\n",
       "  <thead>\n",
       "    <tr style=\"text-align: right;\">\n",
       "      <th></th>\n",
       "      <th>MFQ_HARM_AVG</th>\n",
       "      <th>MFQ_FAIRNESS_AVG</th>\n",
       "      <th>MFQ_INGROUP_AVG</th>\n",
       "      <th>MFQ_AUTHORITY_AVG</th>\n",
       "      <th>MFQ_PURITY_AVG</th>\n",
       "      <th>MFQ_PROGRESSIVISM</th>\n",
       "      <th>Individual</th>\n",
       "      <th>Group</th>\n",
       "    </tr>\n",
       "  </thead>\n",
       "  <tbody>\n",
       "    <tr>\n",
       "      <th>count</th>\n",
       "      <td>212.000000</td>\n",
       "      <td>212.000000</td>\n",
       "      <td>212.000000</td>\n",
       "      <td>212.000000</td>\n",
       "      <td>212.000000</td>\n",
       "      <td>212.000000</td>\n",
       "      <td>212.000000</td>\n",
       "      <td>212.000000</td>\n",
       "    </tr>\n",
       "    <tr>\n",
       "      <th>mean</th>\n",
       "      <td>4.038915</td>\n",
       "      <td>4.112028</td>\n",
       "      <td>2.772406</td>\n",
       "      <td>2.278302</td>\n",
       "      <td>1.873821</td>\n",
       "      <td>1.767296</td>\n",
       "      <td>8.150943</td>\n",
       "      <td>8.691824</td>\n",
       "    </tr>\n",
       "    <tr>\n",
       "      <th>std</th>\n",
       "      <td>0.753323</td>\n",
       "      <td>0.467685</td>\n",
       "      <td>0.680922</td>\n",
       "      <td>0.732878</td>\n",
       "      <td>1.046744</td>\n",
       "      <td>0.871639</td>\n",
       "      <td>0.867515</td>\n",
       "      <td>1.473046</td>\n",
       "    </tr>\n",
       "    <tr>\n",
       "      <th>min</th>\n",
       "      <td>0.000000</td>\n",
       "      <td>2.750000</td>\n",
       "      <td>0.000000</td>\n",
       "      <td>0.000000</td>\n",
       "      <td>0.000000</td>\n",
       "      <td>-0.958333</td>\n",
       "      <td>4.250000</td>\n",
       "      <td>2.375000</td>\n",
       "    </tr>\n",
       "    <tr>\n",
       "      <th>25%</th>\n",
       "      <td>3.750000</td>\n",
       "      <td>4.000000</td>\n",
       "      <td>2.500000</td>\n",
       "      <td>1.750000</td>\n",
       "      <td>1.000000</td>\n",
       "      <td>1.302083</td>\n",
       "      <td>7.500000</td>\n",
       "      <td>7.541667</td>\n",
       "    </tr>\n",
       "    <tr>\n",
       "      <th>50%</th>\n",
       "      <td>4.000000</td>\n",
       "      <td>4.000000</td>\n",
       "      <td>3.000000</td>\n",
       "      <td>2.250000</td>\n",
       "      <td>1.750000</td>\n",
       "      <td>1.895833</td>\n",
       "      <td>8.500000</td>\n",
       "      <td>8.729167</td>\n",
       "    </tr>\n",
       "    <tr>\n",
       "      <th>75%</th>\n",
       "      <td>4.750000</td>\n",
       "      <td>4.500000</td>\n",
       "      <td>3.000000</td>\n",
       "      <td>2.750000</td>\n",
       "      <td>2.500000</td>\n",
       "      <td>2.458333</td>\n",
       "      <td>8.750000</td>\n",
       "      <td>9.552083</td>\n",
       "    </tr>\n",
       "    <tr>\n",
       "      <th>max</th>\n",
       "      <td>5.000000</td>\n",
       "      <td>5.000000</td>\n",
       "      <td>4.750000</td>\n",
       "      <td>4.500000</td>\n",
       "      <td>5.000000</td>\n",
       "      <td>3.583333</td>\n",
       "      <td>10.000000</td>\n",
       "      <td>12.083333</td>\n",
       "    </tr>\n",
       "  </tbody>\n",
       "</table>\n",
       "</div>"
      ],
      "text/plain": [
       "       MFQ_HARM_AVG  MFQ_FAIRNESS_AVG  MFQ_INGROUP_AVG  MFQ_AUTHORITY_AVG  \\\n",
       "count    212.000000        212.000000       212.000000         212.000000   \n",
       "mean       4.038915          4.112028         2.772406           2.278302   \n",
       "std        0.753323          0.467685         0.680922           0.732878   \n",
       "min        0.000000          2.750000         0.000000           0.000000   \n",
       "25%        3.750000          4.000000         2.500000           1.750000   \n",
       "50%        4.000000          4.000000         3.000000           2.250000   \n",
       "75%        4.750000          4.500000         3.000000           2.750000   \n",
       "max        5.000000          5.000000         4.750000           4.500000   \n",
       "\n",
       "       MFQ_PURITY_AVG  MFQ_PROGRESSIVISM  Individual       Group  \n",
       "count      212.000000         212.000000  212.000000  212.000000  \n",
       "mean         1.873821           1.767296    8.150943    8.691824  \n",
       "std          1.046744           0.871639    0.867515    1.473046  \n",
       "min          0.000000          -0.958333    4.250000    2.375000  \n",
       "25%          1.000000           1.302083    7.500000    7.541667  \n",
       "50%          1.750000           1.895833    8.500000    8.729167  \n",
       "75%          2.500000           2.458333    8.750000    9.552083  \n",
       "max          5.000000           3.583333   10.000000   12.083333  "
      ]
     },
     "execution_count": 14,
     "metadata": {},
     "output_type": "execute_result"
    }
   ],
   "source": [
    "df1.describe()"
   ]
  },
  {
   "cell_type": "code",
   "execution_count": 15,
   "id": "28e5421b",
   "metadata": {},
   "outputs": [
    {
     "data": {
      "text/html": [
       "<div>\n",
       "<style scoped>\n",
       "    .dataframe tbody tr th:only-of-type {\n",
       "        vertical-align: middle;\n",
       "    }\n",
       "\n",
       "    .dataframe tbody tr th {\n",
       "        vertical-align: top;\n",
       "    }\n",
       "\n",
       "    .dataframe thead th {\n",
       "        text-align: right;\n",
       "    }\n",
       "</style>\n",
       "<table border=\"1\" class=\"dataframe\">\n",
       "  <thead>\n",
       "    <tr style=\"text-align: right;\">\n",
       "      <th></th>\n",
       "      <th>Participant</th>\n",
       "      <th>MFQ_HARM_AVG</th>\n",
       "      <th>MFQ_FAIRNESS_AVG</th>\n",
       "      <th>MFQ_INGROUP_AVG</th>\n",
       "      <th>MFQ_AUTHORITY_AVG</th>\n",
       "      <th>MFQ_PURITY_AVG</th>\n",
       "      <th>MFQ_PROGRESSIVISM</th>\n",
       "      <th>Individual</th>\n",
       "      <th>Group</th>\n",
       "    </tr>\n",
       "  </thead>\n",
       "  <tbody>\n",
       "    <tr>\n",
       "      <th>0</th>\n",
       "      <td>Bard</td>\n",
       "      <td>3.00</td>\n",
       "      <td>4.00</td>\n",
       "      <td>2.50</td>\n",
       "      <td>1.75</td>\n",
       "      <td>1.25</td>\n",
       "      <td>1.666667</td>\n",
       "      <td>7.00</td>\n",
       "      <td>7.166667</td>\n",
       "    </tr>\n",
       "    <tr>\n",
       "      <th>1</th>\n",
       "      <td>Bard</td>\n",
       "      <td>3.75</td>\n",
       "      <td>4.00</td>\n",
       "      <td>2.50</td>\n",
       "      <td>1.25</td>\n",
       "      <td>1.75</td>\n",
       "      <td>2.041667</td>\n",
       "      <td>7.75</td>\n",
       "      <td>7.541667</td>\n",
       "    </tr>\n",
       "    <tr>\n",
       "      <th>2</th>\n",
       "      <td>Bard</td>\n",
       "      <td>4.00</td>\n",
       "      <td>4.25</td>\n",
       "      <td>2.50</td>\n",
       "      <td>1.00</td>\n",
       "      <td>1.00</td>\n",
       "      <td>2.625000</td>\n",
       "      <td>8.25</td>\n",
       "      <td>7.125000</td>\n",
       "    </tr>\n",
       "    <tr>\n",
       "      <th>3</th>\n",
       "      <td>Bard</td>\n",
       "      <td>4.50</td>\n",
       "      <td>4.00</td>\n",
       "      <td>2.50</td>\n",
       "      <td>1.50</td>\n",
       "      <td>0.75</td>\n",
       "      <td>2.666667</td>\n",
       "      <td>8.50</td>\n",
       "      <td>7.416667</td>\n",
       "    </tr>\n",
       "    <tr>\n",
       "      <th>4</th>\n",
       "      <td>Bard</td>\n",
       "      <td>3.75</td>\n",
       "      <td>4.25</td>\n",
       "      <td>2.25</td>\n",
       "      <td>1.75</td>\n",
       "      <td>0.75</td>\n",
       "      <td>2.416667</td>\n",
       "      <td>8.00</td>\n",
       "      <td>7.166667</td>\n",
       "    </tr>\n",
       "    <tr>\n",
       "      <th>...</th>\n",
       "      <td>...</td>\n",
       "      <td>...</td>\n",
       "      <td>...</td>\n",
       "      <td>...</td>\n",
       "      <td>...</td>\n",
       "      <td>...</td>\n",
       "      <td>...</td>\n",
       "      <td>...</td>\n",
       "      <td>...</td>\n",
       "    </tr>\n",
       "    <tr>\n",
       "      <th>207</th>\n",
       "      <td>Human</td>\n",
       "      <td>3.25</td>\n",
       "      <td>4.75</td>\n",
       "      <td>3.25</td>\n",
       "      <td>3.00</td>\n",
       "      <td>3.25</td>\n",
       "      <td>0.833333</td>\n",
       "      <td>8.00</td>\n",
       "      <td>10.333333</td>\n",
       "    </tr>\n",
       "    <tr>\n",
       "      <th>208</th>\n",
       "      <td>Human</td>\n",
       "      <td>2.75</td>\n",
       "      <td>4.00</td>\n",
       "      <td>4.50</td>\n",
       "      <td>4.00</td>\n",
       "      <td>2.00</td>\n",
       "      <td>-0.125000</td>\n",
       "      <td>6.75</td>\n",
       "      <td>10.375000</td>\n",
       "    </tr>\n",
       "    <tr>\n",
       "      <th>209</th>\n",
       "      <td>Human</td>\n",
       "      <td>4.75</td>\n",
       "      <td>5.00</td>\n",
       "      <td>2.25</td>\n",
       "      <td>2.00</td>\n",
       "      <td>1.50</td>\n",
       "      <td>2.958333</td>\n",
       "      <td>9.75</td>\n",
       "      <td>8.708333</td>\n",
       "    </tr>\n",
       "    <tr>\n",
       "      <th>210</th>\n",
       "      <td>Human</td>\n",
       "      <td>3.00</td>\n",
       "      <td>3.75</td>\n",
       "      <td>4.00</td>\n",
       "      <td>3.25</td>\n",
       "      <td>3.00</td>\n",
       "      <td>-0.041667</td>\n",
       "      <td>6.75</td>\n",
       "      <td>10.208333</td>\n",
       "    </tr>\n",
       "    <tr>\n",
       "      <th>211</th>\n",
       "      <td>Human</td>\n",
       "      <td>4.25</td>\n",
       "      <td>4.00</td>\n",
       "      <td>4.00</td>\n",
       "      <td>3.25</td>\n",
       "      <td>3.50</td>\n",
       "      <td>0.541667</td>\n",
       "      <td>8.25</td>\n",
       "      <td>11.291667</td>\n",
       "    </tr>\n",
       "  </tbody>\n",
       "</table>\n",
       "<p>212 rows × 9 columns</p>\n",
       "</div>"
      ],
      "text/plain": [
       "    Participant  MFQ_HARM_AVG  MFQ_FAIRNESS_AVG  MFQ_INGROUP_AVG  \\\n",
       "0          Bard          3.00              4.00             2.50   \n",
       "1          Bard          3.75              4.00             2.50   \n",
       "2          Bard          4.00              4.25             2.50   \n",
       "3          Bard          4.50              4.00             2.50   \n",
       "4          Bard          3.75              4.25             2.25   \n",
       "..          ...           ...               ...              ...   \n",
       "207       Human          3.25              4.75             3.25   \n",
       "208       Human          2.75              4.00             4.50   \n",
       "209       Human          4.75              5.00             2.25   \n",
       "210       Human          3.00              3.75             4.00   \n",
       "211       Human          4.25              4.00             4.00   \n",
       "\n",
       "     MFQ_AUTHORITY_AVG  MFQ_PURITY_AVG  MFQ_PROGRESSIVISM  Individual  \\\n",
       "0                 1.75            1.25           1.666667        7.00   \n",
       "1                 1.25            1.75           2.041667        7.75   \n",
       "2                 1.00            1.00           2.625000        8.25   \n",
       "3                 1.50            0.75           2.666667        8.50   \n",
       "4                 1.75            0.75           2.416667        8.00   \n",
       "..                 ...             ...                ...         ...   \n",
       "207               3.00            3.25           0.833333        8.00   \n",
       "208               4.00            2.00          -0.125000        6.75   \n",
       "209               2.00            1.50           2.958333        9.75   \n",
       "210               3.25            3.00          -0.041667        6.75   \n",
       "211               3.25            3.50           0.541667        8.25   \n",
       "\n",
       "         Group  \n",
       "0     7.166667  \n",
       "1     7.541667  \n",
       "2     7.125000  \n",
       "3     7.416667  \n",
       "4     7.166667  \n",
       "..         ...  \n",
       "207  10.333333  \n",
       "208  10.375000  \n",
       "209   8.708333  \n",
       "210  10.208333  \n",
       "211  11.291667  \n",
       "\n",
       "[212 rows x 9 columns]"
      ]
     },
     "execution_count": 15,
     "metadata": {},
     "output_type": "execute_result"
    }
   ],
   "source": [
    "df1['Individual']=df1['MFQ_HARM_AVG']+ df1['MFQ_FAIRNESS_AVG' ]\n",
    "df1['Group']=df1['MFQ_INGROUP_AVG']+ df1['MFQ_AUTHORITY_AVG']+df1['MFQ_PURITY_AVG']+df1['MFQ_PROGRESSIVISM']\n",
    "df1"
   ]
  },
  {
   "cell_type": "code",
   "execution_count": 16,
   "id": "c34bb8f9",
   "metadata": {},
   "outputs": [
    {
     "data": {
      "text/plain": [
       "<AxesSubplot:xlabel='Group', ylabel='Count'>"
      ]
     },
     "execution_count": 16,
     "metadata": {},
     "output_type": "execute_result"
    },
    {
     "data": {
      "image/png": "[encoded data removed]",
      "text/plain": [
       "<Figure size 640x480 with 1 Axes>"
      ]
     },
     "metadata": {},
     "output_type": "display_data"
    }
   ],
   "source": [
    "sns.histplot(x= \"Group\", hue= \"Participant\",data= df1,multiple=\"dodge\")"
   ]
  },
  {
   "cell_type": "code",
   "execution_count": 17,
   "id": "aacd8429",
   "metadata": {},
   "outputs": [
    {
     "data": {
      "text/plain": [
       "[Text(0.5, 0, 'Participants'),\n",
       " Text(0, 0.5, 'Harm/Care scores'),\n",
       " Text(0.5, 1.0, 'Harm/Care')]"
      ]
     },
     "execution_count": 17,
     "metadata": {},
     "output_type": "execute_result"
    },
    {
     "data": {
      "image/png": "[encoded data removed]",
      "text/plain": [
       "<Figure size 640x480 with 1 Axes>"
      ]
     },
     "metadata": {},
     "output_type": "display_data"
    }
   ],
   "source": [
    "sns.set_style('whitegrid')\n",
    "HM=sns.boxplot(x='Participant',y='MFQ_HARM_AVG',data=df1)\n",
    "HM.set(xlabel=\"Participants\", ylabel=\"Harm/Care scores\",title= \"Harm/Care\")"
   ]
  },
  {
   "cell_type": "code",
   "execution_count": null,
   "id": "2235b411",
   "metadata": {},
   "outputs": [],
   "source": []
  },
  {
   "cell_type": "code",
   "execution_count": 18,
   "id": "deff9c36",
   "metadata": {},
   "outputs": [
    {
     "data": {
      "text/plain": [
       "[Text(0.5, 0, 'Participants'),\n",
       " Text(0, 0.5, 'Fairness/Reciprocity scores'),\n",
       " Text(0.5, 1.0, 'Fairness/Reciprocity')]"
      ]
     },
     "execution_count": 18,
     "metadata": {},
     "output_type": "execute_result"
    },
    {
     "data": {
      "image/png": "[encoded data removed]",
      "text/plain": [
       "<Figure size 640x480 with 1 Axes>"
      ]
     },
     "metadata": {},
     "output_type": "display_data"
    }
   ],
   "source": [
    "FI=sns.boxplot(x='Participant',y='MFQ_FAIRNESS_AVG',data=df1)\n",
    "FI.set(xlabel=\"Participants\",ylabel=\"Fairness/Reciprocity scores\", title=\"Fairness/Reciprocity\")"
   ]
  },
  {
   "cell_type": "code",
   "execution_count": 19,
   "id": "ebfd4ca4",
   "metadata": {},
   "outputs": [
    {
     "data": {
      "text/plain": [
       "[Text(0.5, 0, 'Participants'),\n",
       " Text(0, 0.5, 'Ingroup/Loyalty scores'),\n",
       " Text(0.5, 1.0, 'Ingroup/Loyalty')]"
      ]
     },
     "execution_count": 19,
     "metadata": {},
     "output_type": "execute_result"
    },
    {
     "data": {
      "image/png": "[encoded data removed]",
      "text/plain": [
       "<Figure size 640x480 with 1 Axes>"
      ]
     },
     "metadata": {},
     "output_type": "display_data"
    }
   ],
   "source": [
    "IN=sns.boxplot(x='Participant',y='MFQ_INGROUP_AVG',data=df1)\n",
    "IN.set(xlabel=\"Participants\",ylabel=\"Ingroup/Loyalty scores\",title=\"Ingroup/Loyalty\")"
   ]
  },
  {
   "cell_type": "code",
   "execution_count": 20,
   "id": "2e120c5f",
   "metadata": {},
   "outputs": [
    {
     "data": {
      "text/plain": [
       "[Text(0.5, 0, 'Participants'),\n",
       " Text(0, 0.5, 'Authority/Respect scores'),\n",
       " Text(0.5, 1.0, 'Authority/Respect')]"
      ]
     },
     "execution_count": 20,
     "metadata": {},
     "output_type": "execute_result"
    },
    {
     "data": {
      "image/png": "[encoded data removed]",
      "text/plain": [
       "<Figure size 640x480 with 1 Axes>"
      ]
     },
     "metadata": {},
     "output_type": "display_data"
    }
   ],
   "source": [
    "AU=sns.boxplot(x='Participant',y='MFQ_AUTHORITY_AVG',data=df1)\n",
    "AU.set(xlabel=\"Participants\",ylabel=\"Authority/Respect scores\",title=\"Authority/Respect\")"
   ]
  },
  {
   "cell_type": "code",
   "execution_count": 21,
   "id": "8c9204b8",
   "metadata": {},
   "outputs": [
    {
     "data": {
      "text/plain": [
       "[Text(0.5, 0, 'Participants'),\n",
       " Text(0, 0.5, 'Purity/Sanctity scores'),\n",
       " Text(0.5, 1.0, 'Purity/Sanctity')]"
      ]
     },
     "execution_count": 21,
     "metadata": {},
     "output_type": "execute_result"
    },
    {
     "data": {
      "image/png": "[encoded data removed]",
      "text/plain": [
       "<Figure size 640x480 with 1 Axes>"
      ]
     },
     "metadata": {},
     "output_type": "display_data"
    }
   ],
   "source": [
    "PU=sns.boxplot(x='Participant',y='MFQ_PURITY_AVG',data=df1)\n",
    "PU.set(xlabel=\"Participants\",ylabel=\"Purity/Sanctity scores\", title=\"Purity/Sanctity\")"
   ]
  },
  {
   "cell_type": "code",
   "execution_count": 22,
   "id": "6f75a6ef",
   "metadata": {},
   "outputs": [
    {
     "data": {
      "text/plain": [
       "[Text(0.5, 0, 'Participants'),\n",
       " Text(0, 0.5, 'Moral Progressivism scores'),\n",
       " Text(0.5, 1.0, 'Moral Progressivism')]"
      ]
     },
     "execution_count": 22,
     "metadata": {},
     "output_type": "execute_result"
    },
    {
     "data": {
      "image/png": "[encoded data removed]",
      "text/plain": [
       "<Figure size 640x480 with 1 Axes>"
      ]
     },
     "metadata": {},
     "output_type": "display_data"
    }
   ],
   "source": [
    "PR=sns.boxplot(x='Participant',y='MFQ_PROGRESSIVISM',data=df1)\n",
    "PR.set(xlabel=\"Participants\",ylabel=\"Moral Progressivism scores\",title=\"Moral Progressivism\")"
   ]
  },
  {
   "cell_type": "code",
   "execution_count": 32,
   "id": "6d970fe8",
   "metadata": {},
   "outputs": [],
   "source": [
    "df1=df1.replace(\"Bard\",1)\n",
    "df1=df1.replace(\"Bing\",2)\n",
    "df1=df1.replace(\"Chatgpt\",3)\n",
    "df1=df1.replace(\"Human\",4)"
   ]
  },
  {
   "cell_type": "code",
   "execution_count": 35,
   "id": "511d3589",
   "metadata": {},
   "outputs": [
    {
     "data": {
      "text/html": [
       "<div>\n",
       "<style scoped>\n",
       "    .dataframe tbody tr th:only-of-type {\n",
       "        vertical-align: middle;\n",
       "    }\n",
       "\n",
       "    .dataframe tbody tr th {\n",
       "        vertical-align: top;\n",
       "    }\n",
       "\n",
       "    .dataframe thead th {\n",
       "        text-align: right;\n",
       "    }\n",
       "</style>\n",
       "<table border=\"1\" class=\"dataframe\">\n",
       "  <thead>\n",
       "    <tr style=\"text-align: right;\">\n",
       "      <th></th>\n",
       "      <th>sum_sq</th>\n",
       "      <th>df</th>\n",
       "      <th>mean_sq</th>\n",
       "      <th>F</th>\n",
       "      <th>PR(&gt;F)</th>\n",
       "      <th>eta_sq</th>\n",
       "      <th>omega_sq</th>\n",
       "    </tr>\n",
       "  </thead>\n",
       "  <tbody>\n",
       "    <tr>\n",
       "      <th>C(Participant)</th>\n",
       "      <td>33.803</td>\n",
       "      <td>3.0</td>\n",
       "      <td>11.268</td>\n",
       "      <td>27.271</td>\n",
       "      <td>0.0</td>\n",
       "      <td>0.282</td>\n",
       "      <td>0.271</td>\n",
       "    </tr>\n",
       "    <tr>\n",
       "      <th>Residual</th>\n",
       "      <td>85.939</td>\n",
       "      <td>208.0</td>\n",
       "      <td>0.413</td>\n",
       "      <td>NaN</td>\n",
       "      <td>NaN</td>\n",
       "      <td>NaN</td>\n",
       "      <td>NaN</td>\n",
       "    </tr>\n",
       "  </tbody>\n",
       "</table>\n",
       "</div>"
      ],
      "text/plain": [
       "                sum_sq     df  mean_sq       F  PR(>F)  eta_sq  omega_sq\n",
       "C(Participant)  33.803    3.0   11.268  27.271     0.0   0.282     0.271\n",
       "Residual        85.939  208.0    0.413     NaN     NaN     NaN       NaN"
      ]
     },
     "execution_count": 35,
     "metadata": {},
     "output_type": "execute_result"
    }
   ],
   "source": [
    "model=ols('MFQ_HARM_AVG ~ C(Participant)',data=df1).fit()\n",
    "aov_table=sm.stats.anova_lm(model,type=2)\n",
    "aov_table\n",
    "def anova_table(aov):\n",
    "    aov['mean_sq'] = aov[:]['sum_sq']/aov[:]['df']\n",
    "\n",
    "    aov['eta_sq'] = aov[:-1]['sum_sq']/sum(aov['sum_sq'])\n",
    "\n",
    "    aov['omega_sq'] = (aov[:-1]['sum_sq']-(aov[:-1]['df']*aov['mean_sq'][-1]))/(sum(aov['sum_sq'])+aov['mean_sq'][-1])\n",
    "\n",
    "    cols = ['sum_sq', 'df', 'mean_sq', 'F', 'PR(>F)', 'eta_sq', 'omega_sq']\n",
    "    aov = aov[cols]\n",
    "    return aov\n",
    "\n",
    "anova_table(aov_table).round(3)"
   ]
  },
  {
   "cell_type": "code",
   "execution_count": 42,
   "id": "c7ed7b48",
   "metadata": {},
   "outputs": [
    {
     "data": {
      "text/html": [
       "<table class=\"simpletable\">\n",
       "<caption>Multiple Comparison of Means - Tukey HSD, FWER=0.05</caption>\n",
       "<tr>\n",
       "  <th>group1</th> <th>group2</th> <th>meandiff</th>  <th>p-adj</th>  <th>lower</th>   <th>upper</th>  <th>reject</th>\n",
       "</tr>\n",
       "<tr>\n",
       "     <td>1</td>      <td>2</td>    <td>0.3443</td>  <td>0.0319</td> <td>0.0209</td>  <td>0.6677</td>   <td>True</td> \n",
       "</tr>\n",
       "<tr>\n",
       "     <td>1</td>      <td>3</td>    <td>0.8066</td>    <td>0.0</td>  <td>0.4832</td>   <td>1.13</td>    <td>True</td> \n",
       "</tr>\n",
       "<tr>\n",
       "     <td>1</td>      <td>4</td>    <td>-0.2594</td> <td>0.1638</td> <td>-0.5828</td>  <td>0.064</td>   <td>False</td>\n",
       "</tr>\n",
       "<tr>\n",
       "     <td>2</td>      <td>3</td>    <td>0.4623</td>  <td>0.0016</td> <td>0.1389</td>  <td>0.7857</td>   <td>True</td> \n",
       "</tr>\n",
       "<tr>\n",
       "     <td>2</td>      <td>4</td>    <td>-0.6038</td>   <td>0.0</td>  <td>-0.9272</td> <td>-0.2804</td>  <td>True</td> \n",
       "</tr>\n",
       "<tr>\n",
       "     <td>3</td>      <td>4</td>    <td>-1.066</td>    <td>0.0</td>  <td>-1.3894</td> <td>-0.7426</td>  <td>True</td> \n",
       "</tr>\n",
       "</table>"
      ],
      "text/plain": [
       "<class 'statsmodels.iolib.table.SimpleTable'>"
      ]
     },
     "execution_count": 42,
     "metadata": {},
     "output_type": "execute_result"
    }
   ],
   "source": [
    "from statsmodels.stats.multicomp import pairwise_tukeyhsd\n",
    "from statsmodels.stats.multicomp import MultiComparison\n",
    "comp = MultiComparison(df1['MFQ_HARM_AVG'], df1['Participant'])\n",
    "post_hoc_res = comp.tukeyhsd(0.05)\n",
    "post_hoc_res.summary()"
   ]
  },
  {
   "cell_type": "code",
   "execution_count": 43,
   "id": "bb85910f",
   "metadata": {},
   "outputs": [
    {
     "data": {
      "text/html": [
       "<div>\n",
       "<style scoped>\n",
       "    .dataframe tbody tr th:only-of-type {\n",
       "        vertical-align: middle;\n",
       "    }\n",
       "\n",
       "    .dataframe tbody tr th {\n",
       "        vertical-align: top;\n",
       "    }\n",
       "\n",
       "    .dataframe thead th {\n",
       "        text-align: right;\n",
       "    }\n",
       "</style>\n",
       "<table border=\"1\" class=\"dataframe\">\n",
       "  <thead>\n",
       "    <tr style=\"text-align: right;\">\n",
       "      <th></th>\n",
       "      <th>sum_sq</th>\n",
       "      <th>df</th>\n",
       "      <th>mean_sq</th>\n",
       "      <th>F</th>\n",
       "      <th>PR(&gt;F)</th>\n",
       "      <th>eta_sq</th>\n",
       "      <th>omega_sq</th>\n",
       "    </tr>\n",
       "  </thead>\n",
       "  <tbody>\n",
       "    <tr>\n",
       "      <th>C(Participant)</th>\n",
       "      <td>3.095224</td>\n",
       "      <td>3.0</td>\n",
       "      <td>1.031741</td>\n",
       "      <td>4.984188</td>\n",
       "      <td>0.002326</td>\n",
       "      <td>0.067066</td>\n",
       "      <td>0.053371</td>\n",
       "    </tr>\n",
       "    <tr>\n",
       "      <th>Residual</th>\n",
       "      <td>43.056604</td>\n",
       "      <td>208.0</td>\n",
       "      <td>0.207003</td>\n",
       "      <td>NaN</td>\n",
       "      <td>NaN</td>\n",
       "      <td>NaN</td>\n",
       "      <td>NaN</td>\n",
       "    </tr>\n",
       "  </tbody>\n",
       "</table>\n",
       "</div>"
      ],
      "text/plain": [
       "                   sum_sq     df   mean_sq         F    PR(>F)    eta_sq  \\\n",
       "C(Participant)   3.095224    3.0  1.031741  4.984188  0.002326  0.067066   \n",
       "Residual        43.056604  208.0  0.207003       NaN       NaN       NaN   \n",
       "\n",
       "                omega_sq  \n",
       "C(Participant)  0.053371  \n",
       "Residual             NaN  "
      ]
     },
     "execution_count": 43,
     "metadata": {},
     "output_type": "execute_result"
    }
   ],
   "source": [
    "model=ols('MFQ_FAIRNESS_AVG ~ C(Participant)',data=df1).fit()\n",
    "aov_table=sm.stats.anova_lm(model,type=2)\n",
    "aov_table\n",
    "def anova_table(aov):\n",
    "    aov['mean_sq'] = aov[:]['sum_sq']/aov[:]['df']\n",
    "\n",
    "    aov['eta_sq'] = aov[:-1]['sum_sq']/sum(aov['sum_sq'])\n",
    "\n",
    "    aov['omega_sq'] = (aov[:-1]['sum_sq']-(aov[:-1]['df']*aov['mean_sq'][-1]))/(sum(aov['sum_sq'])+aov['mean_sq'][-1])\n",
    "\n",
    "    cols = ['sum_sq', 'df', 'mean_sq', 'F', 'PR(>F)', 'eta_sq', 'omega_sq']\n",
    "    aov = aov[cols]\n",
    "    return aov\n",
    "\n",
    "anova_table(aov_table)"
   ]
  },
  {
   "cell_type": "code",
   "execution_count": 41,
   "id": "332f9989",
   "metadata": {},
   "outputs": [
    {
     "data": {
      "text/html": [
       "<table class=\"simpletable\">\n",
       "<caption>Multiple Comparison of Means - Tukey HSD, FWER=0.05</caption>\n",
       "<tr>\n",
       "  <th>group1</th> <th>group2</th> <th>meandiff</th>  <th>p-adj</th>  <th>lower</th>   <th>upper</th>  <th>reject</th>\n",
       "</tr>\n",
       "<tr>\n",
       "     <td>1</td>      <td>2</td>    <td>0.0189</td>  <td>0.9966</td>  <td>-0.21</td>  <td>0.2478</td>   <td>False</td>\n",
       "</tr>\n",
       "<tr>\n",
       "     <td>1</td>      <td>3</td>    <td>-0.1651</td> <td>0.2451</td> <td>-0.394</td>  <td>0.0638</td>   <td>False</td>\n",
       "</tr>\n",
       "<tr>\n",
       "     <td>1</td>      <td>4</td>    <td>-0.2736</td> <td>0.0119</td> <td>-0.5025</td> <td>-0.0447</td>  <td>True</td> \n",
       "</tr>\n",
       "<tr>\n",
       "     <td>2</td>      <td>3</td>    <td>-0.184</td>  <td>0.1626</td> <td>-0.4129</td> <td>0.0449</td>   <td>False</td>\n",
       "</tr>\n",
       "<tr>\n",
       "     <td>2</td>      <td>4</td>    <td>-0.2925</td>  <td>0.006</td> <td>-0.5214</td> <td>-0.0635</td>  <td>True</td> \n",
       "</tr>\n",
       "<tr>\n",
       "     <td>3</td>      <td>4</td>    <td>-0.1085</td> <td>0.6101</td> <td>-0.3374</td> <td>0.1204</td>   <td>False</td>\n",
       "</tr>\n",
       "</table>"
      ],
      "text/plain": [
       "<class 'statsmodels.iolib.table.SimpleTable'>"
      ]
     },
     "execution_count": 41,
     "metadata": {},
     "output_type": "execute_result"
    }
   ],
   "source": [
    "from statsmodels.stats.multicomp import pairwise_tukeyhsd\n",
    "from statsmodels.stats.multicomp import MultiComparison\n",
    "comp = MultiComparison(df1['MFQ_FAIRNESS_AVG'], df1['Participant'])\n",
    "post_hoc_res = comp.tukeyhsd(0.05)\n",
    "post_hoc_res.summary()"
   ]
  },
  {
   "cell_type": "code",
   "execution_count": 38,
   "id": "9ddd6fa1",
   "metadata": {},
   "outputs": [
    {
     "data": {
      "text/html": [
       "<div>\n",
       "<style scoped>\n",
       "    .dataframe tbody tr th:only-of-type {\n",
       "        vertical-align: middle;\n",
       "    }\n",
       "\n",
       "    .dataframe tbody tr th {\n",
       "        vertical-align: top;\n",
       "    }\n",
       "\n",
       "    .dataframe thead th {\n",
       "        text-align: right;\n",
       "    }\n",
       "</style>\n",
       "<table border=\"1\" class=\"dataframe\">\n",
       "  <thead>\n",
       "    <tr style=\"text-align: right;\">\n",
       "      <th></th>\n",
       "      <th>sum_sq</th>\n",
       "      <th>df</th>\n",
       "      <th>mean_sq</th>\n",
       "      <th>F</th>\n",
       "      <th>PR(&gt;F)</th>\n",
       "      <th>eta_sq</th>\n",
       "      <th>omega_sq</th>\n",
       "    </tr>\n",
       "  </thead>\n",
       "  <tbody>\n",
       "    <tr>\n",
       "      <th>C(Participant)</th>\n",
       "      <td>32.919850</td>\n",
       "      <td>3.0</td>\n",
       "      <td>10.973283</td>\n",
       "      <td>34.701651</td>\n",
       "      <td>2.748012e-18</td>\n",
       "      <td>0.329337</td>\n",
       "      <td>0.318838</td>\n",
       "    </tr>\n",
       "    <tr>\n",
       "      <th>Residual</th>\n",
       "      <td>67.038194</td>\n",
       "      <td>212.0</td>\n",
       "      <td>0.316218</td>\n",
       "      <td>NaN</td>\n",
       "      <td>NaN</td>\n",
       "      <td>NaN</td>\n",
       "      <td>NaN</td>\n",
       "    </tr>\n",
       "  </tbody>\n",
       "</table>\n",
       "</div>"
      ],
      "text/plain": [
       "                   sum_sq     df    mean_sq          F        PR(>F)  \\\n",
       "C(Participant)  32.919850    3.0  10.973283  34.701651  2.748012e-18   \n",
       "Residual        67.038194  212.0   0.316218        NaN           NaN   \n",
       "\n",
       "                  eta_sq  omega_sq  \n",
       "C(Participant)  0.329337  0.318838  \n",
       "Residual             NaN       NaN  "
      ]
     },
     "execution_count": 38,
     "metadata": {},
     "output_type": "execute_result"
    }
   ],
   "source": [
    "model=ols('MFQ_INGROUP_AVG ~ C(Participant)',data=df1).fit()\n",
    "aov_table=sm.stats.anova_lm(model,type=2)\n",
    "aov_table\n",
    "def anova_table(aov):\n",
    "    aov['mean_sq'] = aov[:]['sum_sq']/aov[:]['df']\n",
    "\n",
    "    aov['eta_sq'] = aov[:-1]['sum_sq']/sum(aov['sum_sq'])\n",
    "\n",
    "    aov['omega_sq'] = (aov[:-1]['sum_sq']-(aov[:-1]['df']*aov['mean_sq'][-1]))/(sum(aov['sum_sq'])+aov['mean_sq'][-1])\n",
    "\n",
    "    cols = ['sum_sq', 'df', 'mean_sq', 'F', 'PR(>F)', 'eta_sq', 'omega_sq']\n",
    "    aov = aov[cols]\n",
    "    return aov\n",
    "\n",
    "anova_table(aov_table)"
   ]
  },
  {
   "cell_type": "code",
   "execution_count": 50,
   "id": "92a4534e",
   "metadata": {},
   "outputs": [
    {
     "data": {
      "text/html": [
       "<table class=\"simpletable\">\n",
       "<caption>Multiple Comparison of Means - Tukey HSD, FWER=0.05</caption>\n",
       "<tr>\n",
       "  <th>group1</th> <th>group2</th> <th>meandiff</th>  <th>p-adj</th>  <th>lower</th>   <th>upper</th> <th>reject</th>\n",
       "</tr>\n",
       "<tr>\n",
       "     <td>1</td>      <td>2</td>    <td>0.1698</td>   <td>0.412</td> <td>-0.1147</td> <td>0.4543</td>  <td>False</td>\n",
       "</tr>\n",
       "<tr>\n",
       "     <td>1</td>      <td>3</td>    <td>0.6792</td>    <td>0.0</td>  <td>0.3948</td>  <td>0.9637</td>  <td>True</td> \n",
       "</tr>\n",
       "<tr>\n",
       "     <td>1</td>      <td>4</td>    <td>0.9575</td>    <td>0.0</td>  <td>0.6731</td>   <td>1.242</td>  <td>True</td> \n",
       "</tr>\n",
       "<tr>\n",
       "     <td>2</td>      <td>3</td>    <td>0.5094</td>    <td>0.0</td>   <td>0.225</td>  <td>0.7939</td>  <td>True</td> \n",
       "</tr>\n",
       "<tr>\n",
       "     <td>2</td>      <td>4</td>    <td>0.7877</td>    <td>0.0</td>  <td>0.5033</td>  <td>1.0722</td>  <td>True</td> \n",
       "</tr>\n",
       "<tr>\n",
       "     <td>3</td>      <td>4</td>    <td>0.2783</td>  <td>0.0577</td> <td>-0.0062</td> <td>0.5628</td>  <td>False</td>\n",
       "</tr>\n",
       "</table>"
      ],
      "text/plain": [
       "<class 'statsmodels.iolib.table.SimpleTable'>"
      ]
     },
     "execution_count": 50,
     "metadata": {},
     "output_type": "execute_result"
    }
   ],
   "source": [
    "from statsmodels.stats.multicomp import pairwise_tukeyhsd\n",
    "from statsmodels.stats.multicomp import MultiComparison\n",
    "comp = MultiComparison(df1['MFQ_INGROUP_AVG'], df1['Participant'])\n",
    "post_hoc_res = comp.tukeyhsd(0.05)\n",
    "post_hoc_res.summary()"
   ]
  },
  {
   "cell_type": "code",
   "execution_count": 51,
   "id": "8aa78177",
   "metadata": {},
   "outputs": [
    {
     "data": {
      "text/html": [
       "<div>\n",
       "<style scoped>\n",
       "    .dataframe tbody tr th:only-of-type {\n",
       "        vertical-align: middle;\n",
       "    }\n",
       "\n",
       "    .dataframe tbody tr th {\n",
       "        vertical-align: top;\n",
       "    }\n",
       "\n",
       "    .dataframe thead th {\n",
       "        text-align: right;\n",
       "    }\n",
       "</style>\n",
       "<table border=\"1\" class=\"dataframe\">\n",
       "  <thead>\n",
       "    <tr style=\"text-align: right;\">\n",
       "      <th></th>\n",
       "      <th>sum_sq</th>\n",
       "      <th>df</th>\n",
       "      <th>mean_sq</th>\n",
       "      <th>F</th>\n",
       "      <th>PR(&gt;F)</th>\n",
       "      <th>eta_sq</th>\n",
       "      <th>omega_sq</th>\n",
       "    </tr>\n",
       "  </thead>\n",
       "  <tbody>\n",
       "    <tr>\n",
       "      <th>C(Participant)</th>\n",
       "      <td>52.431604</td>\n",
       "      <td>3.0</td>\n",
       "      <td>17.477201</td>\n",
       "      <td>59.693634</td>\n",
       "      <td>6.994300e-28</td>\n",
       "      <td>0.462645</td>\n",
       "      <td>0.453722</td>\n",
       "    </tr>\n",
       "    <tr>\n",
       "      <th>Residual</th>\n",
       "      <td>60.898585</td>\n",
       "      <td>208.0</td>\n",
       "      <td>0.292782</td>\n",
       "      <td>NaN</td>\n",
       "      <td>NaN</td>\n",
       "      <td>NaN</td>\n",
       "      <td>NaN</td>\n",
       "    </tr>\n",
       "  </tbody>\n",
       "</table>\n",
       "</div>"
      ],
      "text/plain": [
       "                   sum_sq     df    mean_sq          F        PR(>F)  \\\n",
       "C(Participant)  52.431604    3.0  17.477201  59.693634  6.994300e-28   \n",
       "Residual        60.898585  208.0   0.292782        NaN           NaN   \n",
       "\n",
       "                  eta_sq  omega_sq  \n",
       "C(Participant)  0.462645  0.453722  \n",
       "Residual             NaN       NaN  "
      ]
     },
     "execution_count": 51,
     "metadata": {},
     "output_type": "execute_result"
    }
   ],
   "source": [
    "model=ols('MFQ_AUTHORITY_AVG ~ C(Participant)',data=df1).fit()\n",
    "aov_table=sm.stats.anova_lm(model,type=2)\n",
    "aov_table\n",
    "def anova_table(aov):\n",
    "    aov['mean_sq'] = aov[:]['sum_sq']/aov[:]['df']\n",
    "\n",
    "    aov['eta_sq'] = aov[:-1]['sum_sq']/sum(aov['sum_sq'])\n",
    "\n",
    "    aov['omega_sq'] = (aov[:-1]['sum_sq']-(aov[:-1]['df']*aov['mean_sq'][-1]))/(sum(aov['sum_sq'])+aov['mean_sq'][-1])\n",
    "\n",
    "    cols = ['sum_sq', 'df', 'mean_sq', 'F', 'PR(>F)', 'eta_sq', 'omega_sq']\n",
    "    aov = aov[cols]\n",
    "    return aov\n",
    "\n",
    "anova_table(aov_table)"
   ]
  },
  {
   "cell_type": "code",
   "execution_count": 52,
   "id": "c6019b6d",
   "metadata": {},
   "outputs": [
    {
     "data": {
      "text/html": [
       "<table class=\"simpletable\">\n",
       "<caption>Multiple Comparison of Means - Tukey HSD, FWER=0.05</caption>\n",
       "<tr>\n",
       "  <th>group1</th> <th>group2</th> <th>meandiff</th>  <th>p-adj</th>  <th>lower</th>  <th>upper</th> <th>reject</th>\n",
       "</tr>\n",
       "<tr>\n",
       "     <td>1</td>      <td>2</td>    <td>0.5189</td>    <td>0.0</td>  <td>0.2466</td> <td>0.7911</td>  <td>True</td> \n",
       "</tr>\n",
       "<tr>\n",
       "     <td>1</td>      <td>3</td>    <td>0.9953</td>    <td>0.0</td>  <td>0.7231</td> <td>1.2675</td>  <td>True</td> \n",
       "</tr>\n",
       "<tr>\n",
       "     <td>1</td>      <td>4</td>     <td>1.316</td>    <td>0.0</td>  <td>1.0438</td> <td>1.5883</td>  <td>True</td> \n",
       "</tr>\n",
       "<tr>\n",
       "     <td>2</td>      <td>3</td>    <td>0.4764</td>  <td>0.0001</td> <td>0.2042</td> <td>0.7486</td>  <td>True</td> \n",
       "</tr>\n",
       "<tr>\n",
       "     <td>2</td>      <td>4</td>    <td>0.7972</td>    <td>0.0</td>  <td>0.5249</td> <td>1.0694</td>  <td>True</td> \n",
       "</tr>\n",
       "<tr>\n",
       "     <td>3</td>      <td>4</td>    <td>0.3208</td>  <td>0.0136</td> <td>0.0485</td>  <td>0.593</td>  <td>True</td> \n",
       "</tr>\n",
       "</table>"
      ],
      "text/plain": [
       "<class 'statsmodels.iolib.table.SimpleTable'>"
      ]
     },
     "execution_count": 52,
     "metadata": {},
     "output_type": "execute_result"
    }
   ],
   "source": [
    "from statsmodels.stats.multicomp import pairwise_tukeyhsd\n",
    "from statsmodels.stats.multicomp import MultiComparison\n",
    "comp = MultiComparison(df1['MFQ_AUTHORITY_AVG'], df1['Participant'])\n",
    "post_hoc_res = comp.tukeyhsd(0.05)\n",
    "post_hoc_res.summary()"
   ]
  },
  {
   "cell_type": "code",
   "execution_count": 54,
   "id": "b33626c8",
   "metadata": {},
   "outputs": [
    {
     "data": {
      "text/html": [
       "<div>\n",
       "<style scoped>\n",
       "    .dataframe tbody tr th:only-of-type {\n",
       "        vertical-align: middle;\n",
       "    }\n",
       "\n",
       "    .dataframe tbody tr th {\n",
       "        vertical-align: top;\n",
       "    }\n",
       "\n",
       "    .dataframe thead th {\n",
       "        text-align: right;\n",
       "    }\n",
       "</style>\n",
       "<table border=\"1\" class=\"dataframe\">\n",
       "  <thead>\n",
       "    <tr style=\"text-align: right;\">\n",
       "      <th></th>\n",
       "      <th>sum_sq</th>\n",
       "      <th>df</th>\n",
       "      <th>mean_sq</th>\n",
       "      <th>F</th>\n",
       "      <th>PR(&gt;F)</th>\n",
       "      <th>eta_sq</th>\n",
       "      <th>omega_sq</th>\n",
       "    </tr>\n",
       "  </thead>\n",
       "  <tbody>\n",
       "    <tr>\n",
       "      <th>C(Participant)</th>\n",
       "      <td>127.647111</td>\n",
       "      <td>3.0</td>\n",
       "      <td>42.549037</td>\n",
       "      <td>85.476064</td>\n",
       "      <td>4.511069e-36</td>\n",
       "      <td>0.552137</td>\n",
       "      <td>0.544505</td>\n",
       "    </tr>\n",
       "    <tr>\n",
       "      <th>Residual</th>\n",
       "      <td>103.540094</td>\n",
       "      <td>208.0</td>\n",
       "      <td>0.497789</td>\n",
       "      <td>NaN</td>\n",
       "      <td>NaN</td>\n",
       "      <td>NaN</td>\n",
       "      <td>NaN</td>\n",
       "    </tr>\n",
       "  </tbody>\n",
       "</table>\n",
       "</div>"
      ],
      "text/plain": [
       "                    sum_sq     df    mean_sq          F        PR(>F)  \\\n",
       "C(Participant)  127.647111    3.0  42.549037  85.476064  4.511069e-36   \n",
       "Residual        103.540094  208.0   0.497789        NaN           NaN   \n",
       "\n",
       "                  eta_sq  omega_sq  \n",
       "C(Participant)  0.552137  0.544505  \n",
       "Residual             NaN       NaN  "
      ]
     },
     "execution_count": 54,
     "metadata": {},
     "output_type": "execute_result"
    }
   ],
   "source": [
    "model=ols('MFQ_PURITY_AVG ~ C(Participant)',data=df1).fit()\n",
    "aov_table=sm.stats.anova_lm(model,type=2)\n",
    "aov_table\n",
    "def anova_table(aov):\n",
    "    aov['mean_sq'] = aov[:]['sum_sq']/aov[:]['df']\n",
    "\n",
    "    aov['eta_sq'] = aov[:-1]['sum_sq']/sum(aov['sum_sq'])\n",
    "\n",
    "    aov['omega_sq'] = (aov[:-1]['sum_sq']-(aov[:-1]['df']*aov['mean_sq'][-1]))/(sum(aov['sum_sq'])+aov['mean_sq'][-1])\n",
    "\n",
    "    cols = ['sum_sq', 'df', 'mean_sq', 'F', 'PR(>F)', 'eta_sq', 'omega_sq']\n",
    "    aov = aov[cols]\n",
    "    return aov\n",
    "\n",
    "anova_table(aov_table)"
   ]
  },
  {
   "cell_type": "code",
   "execution_count": 56,
   "id": "f2a6db85",
   "metadata": {},
   "outputs": [
    {
     "data": {
      "text/html": [
       "<table class=\"simpletable\">\n",
       "<caption>Multiple Comparison of Means - Tukey HSD, FWER=0.05</caption>\n",
       "<tr>\n",
       "  <th>group1</th> <th>group2</th> <th>meandiff</th>  <th>p-adj</th>  <th>lower</th>   <th>upper</th> <th>reject</th>\n",
       "</tr>\n",
       "<tr>\n",
       "     <td>1</td>      <td>2</td>    <td>0.0708</td>  <td>0.9551</td> <td>-0.2842</td> <td>0.4257</td>  <td>False</td>\n",
       "</tr>\n",
       "<tr>\n",
       "     <td>1</td>      <td>3</td>    <td>0.9953</td>    <td>0.0</td>  <td>0.6403</td>  <td>1.3502</td>  <td>True</td> \n",
       "</tr>\n",
       "<tr>\n",
       "     <td>1</td>      <td>4</td>    <td>1.9009</td>    <td>0.0</td>   <td>1.546</td>  <td>2.2559</td>  <td>True</td> \n",
       "</tr>\n",
       "<tr>\n",
       "     <td>2</td>      <td>3</td>    <td>0.9245</td>    <td>0.0</td>  <td>0.5696</td>  <td>1.2795</td>  <td>True</td> \n",
       "</tr>\n",
       "<tr>\n",
       "     <td>2</td>      <td>4</td>    <td>1.8302</td>    <td>0.0</td>  <td>1.4752</td>  <td>2.1852</td>  <td>True</td> \n",
       "</tr>\n",
       "<tr>\n",
       "     <td>3</td>      <td>4</td>    <td>0.9057</td>    <td>0.0</td>  <td>0.5507</td>  <td>1.2606</td>  <td>True</td> \n",
       "</tr>\n",
       "</table>"
      ],
      "text/plain": [
       "<class 'statsmodels.iolib.table.SimpleTable'>"
      ]
     },
     "execution_count": 56,
     "metadata": {},
     "output_type": "execute_result"
    }
   ],
   "source": [
    "from statsmodels.stats.multicomp import pairwise_tukeyhsd\n",
    "from statsmodels.stats.multicomp import MultiComparison\n",
    "comp = MultiComparison(df1['MFQ_PURITY_AVG'], df1['Participant'])\n",
    "post_hoc_res = comp.tukeyhsd(0.05)\n",
    "post_hoc_res.summary()"
   ]
  },
  {
   "cell_type": "code",
   "execution_count": 41,
   "id": "cf07b812",
   "metadata": {},
   "outputs": [
    {
     "data": {
      "text/html": [
       "<div>\n",
       "<style scoped>\n",
       "    .dataframe tbody tr th:only-of-type {\n",
       "        vertical-align: middle;\n",
       "    }\n",
       "\n",
       "    .dataframe tbody tr th {\n",
       "        vertical-align: top;\n",
       "    }\n",
       "\n",
       "    .dataframe thead th {\n",
       "        text-align: right;\n",
       "    }\n",
       "</style>\n",
       "<table border=\"1\" class=\"dataframe\">\n",
       "  <thead>\n",
       "    <tr style=\"text-align: right;\">\n",
       "      <th></th>\n",
       "      <th>sum_sq</th>\n",
       "      <th>df</th>\n",
       "      <th>mean_sq</th>\n",
       "      <th>F</th>\n",
       "      <th>PR(&gt;F)</th>\n",
       "      <th>eta_sq</th>\n",
       "      <th>omega_sq</th>\n",
       "    </tr>\n",
       "  </thead>\n",
       "  <tbody>\n",
       "    <tr>\n",
       "      <th>C(Participant)</th>\n",
       "      <td>98.774466</td>\n",
       "      <td>3.0</td>\n",
       "      <td>32.924822</td>\n",
       "      <td>99.622109</td>\n",
       "      <td>2.901929e-40</td>\n",
       "      <td>0.585019</td>\n",
       "      <td>0.578015</td>\n",
       "    </tr>\n",
       "    <tr>\n",
       "      <th>Residual</th>\n",
       "      <td>70.065394</td>\n",
       "      <td>212.0</td>\n",
       "      <td>0.330497</td>\n",
       "      <td>NaN</td>\n",
       "      <td>NaN</td>\n",
       "      <td>NaN</td>\n",
       "      <td>NaN</td>\n",
       "    </tr>\n",
       "  </tbody>\n",
       "</table>\n",
       "</div>"
      ],
      "text/plain": [
       "                   sum_sq     df    mean_sq          F        PR(>F)  \\\n",
       "C(Participant)  98.774466    3.0  32.924822  99.622109  2.901929e-40   \n",
       "Residual        70.065394  212.0   0.330497        NaN           NaN   \n",
       "\n",
       "                  eta_sq  omega_sq  \n",
       "C(Participant)  0.585019  0.578015  \n",
       "Residual             NaN       NaN  "
      ]
     },
     "execution_count": 41,
     "metadata": {},
     "output_type": "execute_result"
    }
   ],
   "source": [
    "model=ols('MFQ_PROGRESSIVISM ~ C(Participant)',data=df1).fit()\n",
    "aov_table=sm.stats.anova_lm(model,type=2)\n",
    "aov_table\n",
    "def anova_table(aov):\n",
    "    aov['mean_sq'] = aov[:]['sum_sq']/aov[:]['df']\n",
    "\n",
    "    aov['eta_sq'] = aov[:-1]['sum_sq']/sum(aov['sum_sq'])\n",
    "\n",
    "    aov['omega_sq'] = (aov[:-1]['sum_sq']-(aov[:-1]['df']*aov['mean_sq'][-1]))/(sum(aov['sum_sq'])+aov['mean_sq'][-1])\n",
    "\n",
    "    cols = ['sum_sq', 'df', 'mean_sq', 'F', 'PR(>F)', 'eta_sq', 'omega_sq']\n",
    "    aov = aov[cols]\n",
    "    return aov\n",
    "\n",
    "anova_table(aov_table)"
   ]
  },
  {
   "cell_type": "code",
   "execution_count": 57,
   "id": "947b3819",
   "metadata": {},
   "outputs": [
    {
     "data": {
      "text/html": [
       "<table class=\"simpletable\">\n",
       "<caption>Multiple Comparison of Means - Tukey HSD, FWER=0.05</caption>\n",
       "<tr>\n",
       "  <th>group1</th> <th>group2</th> <th>meandiff</th>  <th>p-adj</th>  <th>lower</th>   <th>upper</th>  <th>reject</th>\n",
       "</tr>\n",
       "<tr>\n",
       "     <td>1</td>      <td>2</td>    <td>-0.0715</td> <td>0.9162</td> <td>-0.3575</td> <td>0.2144</td>   <td>False</td>\n",
       "</tr>\n",
       "<tr>\n",
       "     <td>1</td>      <td>3</td>    <td>-0.5692</td>   <td>0.0</td>  <td>-0.8551</td> <td>-0.2832</td>  <td>True</td> \n",
       "</tr>\n",
       "<tr>\n",
       "     <td>1</td>      <td>4</td>    <td>-1.658</td>    <td>0.0</td>  <td>-1.944</td>  <td>-1.3721</td>  <td>True</td> \n",
       "</tr>\n",
       "<tr>\n",
       "     <td>2</td>      <td>3</td>    <td>-0.4976</td> <td>0.0001</td> <td>-0.7836</td> <td>-0.2117</td>  <td>True</td> \n",
       "</tr>\n",
       "<tr>\n",
       "     <td>2</td>      <td>4</td>    <td>-1.5865</td>   <td>0.0</td>  <td>-1.8724</td> <td>-1.3005</td>  <td>True</td> \n",
       "</tr>\n",
       "<tr>\n",
       "     <td>3</td>      <td>4</td>    <td>-1.0888</td>   <td>0.0</td>  <td>-1.3748</td> <td>-0.8029</td>  <td>True</td> \n",
       "</tr>\n",
       "</table>"
      ],
      "text/plain": [
       "<class 'statsmodels.iolib.table.SimpleTable'>"
      ]
     },
     "execution_count": 57,
     "metadata": {},
     "output_type": "execute_result"
    }
   ],
   "source": [
    "from statsmodels.stats.multicomp import pairwise_tukeyhsd\n",
    "from statsmodels.stats.multicomp import MultiComparison\n",
    "comp = MultiComparison(df1['MFQ_PROGRESSIVISM'], df1['Participant'])\n",
    "post_hoc_res = comp.tukeyhsd(0.05)\n",
    "post_hoc_res.summary()"
   ]
  },
  {
   "cell_type": "code",
   "execution_count": null,
   "id": "c17f60c4",
   "metadata": {},
   "outputs": [],
   "source": []
  }
 ],
 "metadata": {
  "kernelspec": {
   "display_name": "Python 3 (ipykernel)",
   "language": "python",
   "name": "python3"
  },
  "language_info": {
   "codemirror_mode": {
    "name": "ipython",
    "version": 3
   },
   "file_extension": ".py",
   "mimetype": "text/x-python",
   "name": "python",
   "nbconvert_exporter": "python",
   "pygments_lexer": "ipython3",
   "version": "3.9.13"
  }
 },
 "nbformat": 4,
 "nbformat_minor": 5
}
